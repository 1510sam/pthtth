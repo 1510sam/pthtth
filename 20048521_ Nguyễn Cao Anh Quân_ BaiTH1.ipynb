{
  "cells": [
    {
      "cell_type": "markdown",
      "metadata": {
        "id": "7x-_M85GjIgo"
      },
      "source": [
        "# Họ và tên: Nguyễn Cao Anh Quân\n",
        "# MSSV: 20048521\n",
        "# Lớp học phần - Nhóm TH: 420300207401 - 2"
      ]
    },
    {
      "cell_type": "markdown",
      "metadata": {
        "id": "9Sd68lwXjIgp"
      },
      "source": [
        "# 1. Hello world!"
      ]
    },
    {
      "cell_type": "code",
      "execution_count": 1,
      "metadata": {
        "colab": {
          "base_uri": "https://localhost:8080/"
        },
        "id": "augzrm9YjIgp",
        "outputId": "89b027e5-25dc-49a5-a3e5-8cef1e9a4620"
      },
      "outputs": [
        {
          "name": "stdout",
          "output_type": "stream",
          "text": [
            "Hello world!\n"
          ]
        }
      ],
      "source": [
        "print(\"Hello world!\")"
      ]
    },
    {
      "cell_type": "markdown",
      "metadata": {
        "id": "vO-J1G8JjIgq"
      },
      "source": [
        "# 2. Program to Add Two Numbers"
      ]
    },
    {
      "cell_type": "markdown",
      "metadata": {
        "id": "XMpLoMNbjIgq"
      },
      "source": [
        "## Add Two Numbers"
      ]
    },
    {
      "cell_type": "code",
      "execution_count": 2,
      "metadata": {
        "colab": {
          "base_uri": "https://localhost:8080/"
        },
        "id": "AX-hWcP1jIgq",
        "outputId": "d7be60e9-2fc5-4873-8f8c-7a27dff2feee"
      },
      "outputs": [
        {
          "name": "stdout",
          "output_type": "stream",
          "text": [
            "7.8\n"
          ]
        }
      ],
      "source": [
        "num1 = 1.5\n",
        "num2 = 6.3\n",
        "\n",
        "### START CODE HERE ###\n",
        "# Add two numbers\n",
        "\n",
        "sum = num1 + num2\n",
        "\n",
        "# Display the sum\n",
        "print(sum)"
      ]
    },
    {
      "cell_type": "markdown",
      "metadata": {
        "id": "EfQsA0MTjIgq"
      },
      "source": [
        "##  Add Two Numbers With User Input"
      ]
    },
    {
      "cell_type": "code",
      "execution_count": 3,
      "metadata": {
        "colab": {
          "base_uri": "https://localhost:8080/"
        },
        "id": "5SCmQ5ZgjIgq",
        "outputId": "a09affb3-7029-4dd3-eed6-e6235ead8a2b"
      },
      "outputs": [
        {
          "name": "stdout",
          "output_type": "stream",
          "text": [
            "Nhap a: 2\n",
            "Nhap b: 3\n",
            "5\n"
          ]
        }
      ],
      "source": [
        "# Store input numbers\n",
        "num1 = int(input(\"Nhap a: \"))\n",
        "num2 = int(input(\"Nhap b: \"))\n",
        "\n",
        "### START CODE HERE ###\n",
        "\n",
        "# Add two numbers\n",
        "sum = num1 + num2\n",
        "\n",
        "\n",
        "### END CODE HERE ###\n",
        "\n",
        "# Display the sum\n",
        "print(sum)\n"
      ]
    },
    {
      "cell_type": "markdown",
      "metadata": {
        "id": "6ChEVjHGjIgq"
      },
      "source": [
        "# 3. Program to Find the Square Root"
      ]
    },
    {
      "cell_type": "code",
      "execution_count": 6,
      "metadata": {
        "colab": {
          "base_uri": "https://localhost:8080/"
        },
        "id": "uOGes88TjIgr",
        "outputId": "4487440d-39fe-4bb8-fbdd-c5a60e4412c6"
      },
      "outputs": [
        {
          "name": "stdout",
          "output_type": "stream",
          "text": [
            "Enter a number: 8\n",
            "2.8284271247461903\n"
          ]
        }
      ],
      "source": [
        "# Python Program to calculate the square root\n",
        "import math\n",
        "# Note: change this value for a different result\n",
        "#num = 8\n",
        "\n",
        "# To take the input from the user\n",
        "num = float(input('Enter a number: '))\n",
        "\n",
        "# calculate the square root\n",
        "cal = math.sqrt(num)\n",
        "\n",
        "# print the value of the square root\n",
        "print(cal)\n",
        "\n"
      ]
    },
    {
      "cell_type": "markdown",
      "metadata": {
        "id": "qA3PWCDEjIgr"
      },
      "source": [
        "# 4. Program to Calculate the Area of a Triangle\n",
        "s = (a+b+c)/2\n",
        "\n",
        "area = √(s(s-a)*(s-b)*(s-c))"
      ]
    },
    {
      "cell_type": "code",
      "execution_count": 10,
      "metadata": {
        "colab": {
          "base_uri": "https://localhost:8080/"
        },
        "id": "_XPpeMrtjIgr",
        "outputId": "fa5fd5ff-383c-438f-d31c-be51c67ed17f"
      },
      "outputs": [
        {
          "name": "stdout",
          "output_type": "stream",
          "text": [
            "Enter a: 5\n",
            "Enter b: 6\n",
            "Enter c: 8\n",
            "The area of the triangle is 14.98\n"
          ]
        }
      ],
      "source": [
        "### START CODE HERE ###\n",
        "import math\n",
        "# take inputs from the user\n",
        "a = float(input('Enter a: '))\n",
        "b = float(input('Enter b: '))\n",
        "c = float(input('Enter c: '))\n",
        "\n",
        "\n",
        "# calculate the semi-perimeter\n",
        "s = (a+b+c) / 2\n",
        "8\n",
        "# calculate the area\n",
        "area = math.sqrt(s*(s-a)*(s-b)*(s-c))\n",
        "\n",
        "### END CODE HERE ###\n",
        "\n",
        "print('The area of the triangle is %0.2f' %area)"
      ]
    },
    {
      "cell_type": "markdown",
      "metadata": {
        "id": "WHV6BksYjIgs"
      },
      "source": [
        "# 5. Program to Solve Quadratic Equation\n",
        "ax2 + bx + c = 0, where a, b and c are real numbers and a ≠ 0"
      ]
    },
    {
      "cell_type": "code",
      "execution_count": 14,
      "metadata": {
        "colab": {
          "base_uri": "https://localhost:8080/"
        },
        "id": "OgHnTURZjIgs",
        "outputId": "12a2e99a-43c4-4bd4-f440-713795c6ef5a"
      },
      "outputs": [
        {
          "name": "stdout",
          "output_type": "stream",
          "text": [
            "Enter a: -1\n",
            "Enter b: 3\n",
            "Enter c: 2\n",
            "PT có 2 nghiệm x1, x2\n",
            "Ngiệm x1: -0.5615528128088303, Ngiệm x2: 3.5615528128088303\n"
          ]
        }
      ],
      "source": [
        "import cmath\n",
        "\n",
        "### START CODE HERE ###\n",
        "\n",
        "# take inputs from the user\n",
        "a = float(input('Enter a: '))\n",
        "while(a==0):\n",
        "  a = float(input('Enter a again: '))\n",
        "b = float(input('Enter b: '))\n",
        "c = float(input('Enter c: '))\n",
        "\n",
        "# calculate the discriminant\n",
        "d = b**2 - (4*a*c)\n",
        "\n",
        "# find two solutions using square root for real/complex number\n",
        "if(d < 0):\n",
        "  print(\"PT vô nghiệm\")\n",
        "elif(d==0):\n",
        "  print(\"PT có nghiệm kép\")\n",
        "  sol1 = sol2 = (-b)/(2*a)\n",
        "  print(\"Ngiệm x1: {0}, Ngiệm x2: {1}\".format(sol1,sol2))\n",
        "else:\n",
        "  print(\"PT có 2 nghiệm x1, x2\")\n",
        "  sol1 = (-b + math.sqrt(d))/(2*a)\n",
        "  sol2 = (-b - math.sqrt(d))/(2*a)\n",
        "  print(\"Ngiệm x1: {0}, Ngiệm x2: {1}\".format(sol1,sol2))\n",
        "### END CODE HERE ###"
      ]
    },
    {
      "cell_type": "markdown",
      "metadata": {
        "id": "sJ8mwjSwjIgs"
      },
      "source": [
        "# 6. Program to Swap Two Variables"
      ]
    },
    {
      "cell_type": "code",
      "execution_count": 16,
      "metadata": {
        "colab": {
          "base_uri": "https://localhost:8080/"
        },
        "id": "_xQu4he9jIgs",
        "outputId": "743dc04a-f40b-4066-c134-c70157ce5e82"
      },
      "outputs": [
        {
          "name": "stdout",
          "output_type": "stream",
          "text": [
            "Nhap a: 2\n",
            "Nhap b: 3\n",
            "After swapping:\n",
            "a = 3\n",
            "b = 2\n"
          ]
        }
      ],
      "source": [
        "# To take inputs from the user\n",
        "a = int(input(\"Nhap a: \"))\n",
        "b = int(input(\"Nhap b: \"))\n",
        "\n",
        "# create a temporary variable and swap the values\n",
        "c = a\n",
        "a = b\n",
        "b = c\n",
        "\n",
        "# Print the c=value of x, y after swapping\n",
        "print(\"After swapping:\")\n",
        "print(\"a =\", a)\n",
        "print(\"b =\", b)\n",
        "\n",
        "\n",
        "\n",
        "\n"
      ]
    },
    {
      "cell_type": "code",
      "execution_count": null,
      "metadata": {
        "id": "b98PcdiDjIgs"
      },
      "outputs": [],
      "source": [
        "### START CODE HERE ###\n",
        "# writing code to get the address (in RAM) of x, y, temp through the built-in function id()\n",
        "\n",
        "### END CODE HERE ###"
      ]
    },
    {
      "cell_type": "markdown",
      "metadata": {
        "id": "poudIOm1jIgs"
      },
      "source": [
        "# 7. Program to Generate a Random Number\n",
        "https://docs.python.org/3/library/random.html"
      ]
    },
    {
      "cell_type": "code",
      "execution_count": 18,
      "metadata": {
        "colab": {
          "base_uri": "https://localhost:8080/"
        },
        "id": "9mGN9jAhjIgs",
        "outputId": "d6413a5e-fd41-4458-dea9-3a5a4101f601"
      },
      "outputs": [
        {
          "name": "stdout",
          "output_type": "stream",
          "text": [
            "1\n"
          ]
        }
      ],
      "source": [
        "# Program to generate a random number between 0 and 9\n",
        "\n",
        "# importing the random module\n",
        "import random\n",
        "\n",
        "print(random.randint(0,9))\n",
        "\n",
        "# Uncomment to try different function in random module\n",
        "# print(random.randrange(9))\n",
        "# print(random.randrange(3,9))\n",
        "# print(random.random())\n",
        "# print(random.uniform(a,b))"
      ]
    },
    {
      "cell_type": "markdown",
      "metadata": {
        "id": "1Xe23GsDjIgs"
      },
      "source": [
        "# 8. Program to Convert Kilometers to Miles\n",
        "1 km = (1/1.609344) mi = 0.62137119 mi"
      ]
    },
    {
      "cell_type": "code",
      "execution_count": 19,
      "metadata": {
        "colab": {
          "base_uri": "https://localhost:8080/"
        },
        "id": "YwTURE27jIgs",
        "outputId": "c802756f-abf1-479e-e8a3-a5f1140b639c"
      },
      "outputs": [
        {
          "name": "stdout",
          "output_type": "stream",
          "text": [
            "Enter value in kilometers: 2\n",
            "2.00 kilometers is equal to 1.24 miles\n"
          ]
        }
      ],
      "source": [
        "# Taking kilometers input from the user\n",
        "kilometers = float(input(\"Enter value in kilometers: \"))\n",
        "\n",
        "# conversion factor\n",
        "conv_fac = 0.621371\n",
        "\n",
        "# calculate miles\n",
        "miles = kilometers * conv_fac\n",
        "print('%0.2f kilometers is equal to %0.2f miles' %(kilometers,miles))"
      ]
    },
    {
      "cell_type": "code",
      "execution_count": null,
      "metadata": {
        "id": "NhL7nz7-jIgt"
      },
      "outputs": [],
      "source": [
        "### START CODE HERE ###\n",
        "# writing code to convert miles to kilometers\n",
        "\n",
        "### END CODE HERE ###"
      ]
    },
    {
      "cell_type": "markdown",
      "metadata": {
        "id": "fhBv6L_CjIgt"
      },
      "source": [
        "# 9. Program to Convert Celsius To Fahrenheit\n",
        "T(°F) = T(°C) × 1.8 + 32"
      ]
    },
    {
      "cell_type": "code",
      "execution_count": 20,
      "metadata": {
        "colab": {
          "base_uri": "https://localhost:8080/"
        },
        "id": "MvQ5Db-RjIgt",
        "outputId": "a4a5213a-479e-4072-8268-8c3a22f687d7"
      },
      "outputs": [
        {
          "name": "stdout",
          "output_type": "stream",
          "text": [
            "Enter temperature in Celsius: 32\n",
            "32.0 degrees Celsius is equal to 89.6 degrees Fahrenheit\n"
          ]
        }
      ],
      "source": [
        "### START CODE HERE ###\n",
        "# Input temperature in Celsius\n",
        "celsius = float(input(\"Enter temperature in Celsius: \"))\n",
        "\n",
        "# Convert Celsius to Fahrenheit\n",
        "fahrenheit = (celsius * 9/5) + 32\n",
        "\n",
        "# Display the result\n",
        "print(f\"{celsius} degrees Celsius is equal to {fahrenheit} degrees Fahrenheit\")\n",
        "\n",
        "\n",
        "### END CODE HERE ###"
      ]
    }
  ],
  "metadata": {
    "colab": {
      "provenance": []
    },
    "kernelspec": {
      "display_name": "Python 3",
      "language": "python",
      "name": "python3"
    },
    "language_info": {
      "codemirror_mode": {
        "name": "ipython",
        "version": 3
      },
      "file_extension": ".py",
      "mimetype": "text/x-python",
      "name": "python",
      "nbconvert_exporter": "python",
      "pygments_lexer": "ipython3",
      "version": "3.11.4"
    }
  },
  "nbformat": 4,
  "nbformat_minor": 0
}
