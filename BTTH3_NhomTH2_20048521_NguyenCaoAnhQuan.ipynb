{
  "cells": [
    {
      "cell_type": "markdown",
      "metadata": {
        "id": "Y3k3ZyHnlgn4"
      },
      "source": [
        "# 1. Hiển thị tên máy hiện tại, sử dụng hàm gethostname()"
      ]
    },
    {
      "cell_type": "code",
      "execution_count": 1,
      "metadata": {
        "colab": {
          "base_uri": "https://localhost:8080/"
        },
        "id": "llIinxiwlgn6",
        "outputId": "883d82b4-e841-460d-95dc-2ee5e67abd99"
      },
      "outputs": [
        {
          "output_type": "stream",
          "name": "stdout",
          "text": [
            "Host name 4056942cf9f9\n"
          ]
        }
      ],
      "source": [
        "import socket\n",
        "host_name = socket.gethostname()\n",
        "print(\"Host name\", host_name)"
      ]
    },
    {
      "cell_type": "markdown",
      "metadata": {
        "id": "x50jRqlxlgn8"
      },
      "source": [
        "# 2. Hiển thị đc IP của máy đang sử dụng, sử dụng hàm gethostbyname(tenmay)"
      ]
    },
    {
      "cell_type": "code",
      "execution_count": 2,
      "metadata": {
        "colab": {
          "base_uri": "https://localhost:8080/"
        },
        "id": "F8lb3N1Vlgn8",
        "outputId": "9ae65712-bee8-42bc-f053-cacda737e860"
      },
      "outputs": [
        {
          "output_type": "stream",
          "name": "stdout",
          "text": [
            "IP address of 4056942cf9f9 is 172.28.0.12\n"
          ]
        }
      ],
      "source": [
        "import socket\n",
        "host_name = socket.gethostname()\n",
        "ip_address = socket.gethostbyname(host_name)\n",
        "print(\"IP address of \"+ host_name + \" is \" + ip_address)"
      ]
    },
    {
      "cell_type": "markdown",
      "metadata": {
        "id": "LT2IE7O9lgn9"
      },
      "source": [
        "# 3. Viết đoạn script cho phép người dùng lấy địa chỉ IP của máy hiện tại"
      ]
    },
    {
      "cell_type": "code",
      "execution_count": 5,
      "metadata": {
        "colab": {
          "base_uri": "https://localhost:8080/"
        },
        "id": "eFqlJIrflgn9",
        "outputId": "d2f52e36-7934-422c-a2e9-a93b03efefc4"
      },
      "outputs": [
        {
          "output_type": "stream",
          "name": "stdout",
          "text": [
            "Current ip address is :  172.28.0.12\n"
          ]
        }
      ],
      "source": [
        "# Viet theo dang ham (function)\n",
        "# start code HERE\n",
        "def get_ip_host_name():\n",
        "    ipaddress = socket.gethostbyname(socket.gethostname())\n",
        "    return ipaddress\n",
        "current_ip = get_ip_host_name()\n",
        "print(\"Current ip address is : \", current_ip)"
      ]
    },
    {
      "cell_type": "markdown",
      "metadata": {
        "id": "zfW_N2pAlgn-"
      },
      "source": [
        "# 4. Truy vấn địa chỉ IP ở xa\n",
        "Khi một thiết bị kết nối vào mạng Internet muốn trao đổi thông tin với các thiết bị khác trong mạng, thiết bị đó cần được cấp một đcIP xác định và phải biết được đcIP của thiết bị mình cần tương tác.\n",
        "\n",
        "Vậy làm cách nào bạn có thể dịch tên của host_name thành đcIP?\n",
        "\n",
        "Vd: muốn biết đcIP của tuoitre.vn hoặc google.com -> gethostbyname()"
      ]
    },
    {
      "cell_type": "code",
      "execution_count": 6,
      "metadata": {
        "colab": {
          "base_uri": "https://localhost:8080/"
        },
        "id": "QLNG95lClgn-",
        "outputId": "6d548c71-5a96-4e0b-8015-cefb56e8e407"
      },
      "outputs": [
        {
          "name": "stdout",
          "output_type": "stream",
          "text": [
            "Nhập tên miền (ví dụ: www.example.com), hoặc nhập 'exit' để thoát: www.gmail.com\n",
            "Địa chỉ IP của www.gmail.com là: 142.250.101.83\n",
            "Nhập tên miền (ví dụ: www.example.com), hoặc nhập 'exit' để thoát: exit\n"
          ]
        }
      ],
      "source": [
        "### START CODE HERE ###\n",
        "import socket\n",
        "\n",
        "def get_remote_ip_address(domain_name):\n",
        "    try:\n",
        "        ip_address = socket.gethostbyname(domain_name)\n",
        "        return ip_address\n",
        "    except socket.gaierror:\n",
        "        return \"Không thể tìm thấy địa chỉ IP cho tên miền.\"\n",
        "\n",
        "if __name__ == \"__main__\":\n",
        "    while True:\n",
        "        remote_domain = input(\"Nhập tên miền (ví dụ: www.example.com), hoặc nhập 'exit' để thoát: \")\n",
        "\n",
        "        if remote_domain.lower() == 'exit':\n",
        "            break  # Thoát khỏi vòng lặp nếu người dùng nhập 'exit'\n",
        "\n",
        "        if not remote_domain:\n",
        "            print(\"Vui lòng nhập một tên miền hợp lệ.\")\n",
        "        else:\n",
        "            remote_ip = get_remote_ip_address(remote_domain)\n",
        "            print(f\"Địa chỉ IP của {remote_domain} là: {remote_ip}\")\n"
      ]
    },
    {
      "cell_type": "markdown",
      "metadata": {
        "id": "5uoyXmTMlgn-"
      },
      "source": [
        "# 5. Chuyển đc IPv4 sang định dạng khác\n",
        "Địa chỉ IPv4 là một dãy số nhị phân 32-bit. Tuy nhiên, để thuận tiện cho người dùng, thông thường nó được thể hiển theo dạng chuỗi bao gồm 4 octet cách nhau bởi dấu (.) chấm (Vd: 192.168.0.1)\n",
        "\n",
        "Trường hợp ký hiệu địa chỉ IP (dạng X.X.X.X)không phù hợp với các xử lý trong lập trình, khi đó chúng cần được chuyển đổi sang các định dạng nhị phân 32 bit."
      ]
    },
    {
      "cell_type": "code",
      "execution_count": 7,
      "metadata": {
        "colab": {
          "base_uri": "https://localhost:8080/"
        },
        "id": "oT6KocaIlgn-",
        "outputId": "9e5cfe99-4acc-4f54-ef45-134d22154b6e"
      },
      "outputs": [
        {
          "output_type": "stream",
          "name": "stdout",
          "text": [
            "Nhập địa chỉ IPv4 (dạng X.X.X.X): 192.168.1.1\n",
            "Biểu diễn nhị phân 32 bit của 192.168.1.1: 11000000101010000000000100000001\n"
          ]
        }
      ],
      "source": [
        "ipv4_str = input(\"Nhập địa chỉ IPv4 (dạng X.X.X.X): \")\n",
        "\n",
        "# Tách địa chỉ thành các octet\n",
        "octets = ipv4_str.split(\".\")\n",
        "\n",
        "# Kiểm tra tính hợp lệ của địa chỉ IPv4\n",
        "if len(octets) != 4:\n",
        "    print(\"Địa chỉ IPv4 không hợp lệ. Vui lòng nhập đúng định dạng X.X.X.X.\")\n",
        "else:\n",
        "    # Khởi tạo biểu diễn nhị phân của địa chỉ IP\n",
        "    binary_ip = \"\"\n",
        "\n",
        "    # Chuyển đổi mỗi octet thành biểu diễn nhị phân 8 bit và kết hợp chúng\n",
        "    for octet in octets:\n",
        "        binary_octet = bin(int(octet))[2:]  # Loại bỏ '0b' ở đầu và chuyển thành chuỗi nhị phân\n",
        "        binary_octet = binary_octet.zfill(8)  # Đảm bảo có đủ 8 ký tự\n",
        "        binary_ip += binary_octet\n",
        "\n",
        "    # In ra biểu diễn nhị phân 32 bit của địa chỉ IPv4\n",
        "    print(f\"Biểu diễn nhị phân 32 bit của {ipv4_str}: {binary_ip}\")"
      ]
    },
    {
      "cell_type": "markdown",
      "metadata": {
        "id": "hnD3lI0mlgn_"
      },
      "source": [
        "# 6. Sinh viên hãy cho biết kết quả của 2 câu lệnh dưới đây\n",
        "import socket\n",
        "\n",
        "help(socket.inet_ntoa)"
      ]
    },
    {
      "cell_type": "code",
      "execution_count": 10,
      "metadata": {
        "colab": {
          "base_uri": "https://localhost:8080/"
        },
        "id": "zcoTo-wXlgn_",
        "outputId": "8e8d6002-ca03-4f67-ade2-b20855d27591"
      },
      "outputs": [
        {
          "output_type": "stream",
          "name": "stdout",
          "text": [
            "Help on built-in function inet_ntoa in module _socket:\n",
            "\n",
            "inet_ntoa(...)\n",
            "    inet_ntoa(packed_ip) -> ip_address_string\n",
            "    \n",
            "    Convert an IP address from 32-bit packed binary format to string format\n",
            "\n"
          ]
        },
        {
          "output_type": "execute_result",
          "data": {
            "text/plain": [
              "<function _socket.inet_ntoa>"
            ]
          },
          "metadata": {},
          "execution_count": 10
        }
      ],
      "source": [
        "#Sinh viên ghi kết qủa\n",
        "import socket # Dòng này nhập thư viện socket trong Python để sử dụng các chức năng liên quan đến mạng.\n",
        "\n",
        "help(socket.inet_ntoa) # Dòng này sử dụng hàm help() để hiển thị thông tin trợ giúp về hàm inet_ntoa() trong thư viện socket.\n",
        "\n",
        "#Kết quả của câu lệnh help\n",
        "(socket.inet_ntoa) #sẽ hiển thị thông tin trợ giúp về hàm inet_ntoa(), bao gồm mô tả về cách hàm hoạt động và cách sử dụng nó trong Python. Hãy chú ý rằng nội dung cụ thể của thông tin trợ giúp có thể thay đổi tùy theo phiên bản Python bạn đang sử dụng và phiên bản của thư viện socket.\n"
      ]
    },
    {
      "cell_type": "code",
      "execution_count": 13,
      "metadata": {
        "colab": {
          "base_uri": "https://localhost:8080/"
        },
        "id": "OPbWaG0mlgn_",
        "outputId": "3fff9b47-c857-4237-efb9-bc50eabcd766"
      },
      "outputs": [
        {
          "output_type": "stream",
          "name": "stdout",
          "text": [
            "Nhập giá trị cho x: 5\n",
            "Nhập giá trị cho y: 6\n",
            "Nhập giá trị cho temp (dạng danh sách): 3,4,5\n",
            "Địa chỉ bộ nhớ x: 139922078597488\n",
            "Địa chỉ bộ nhớ y: 139922077649904\n",
            "Địa chỉ bộ nhớ temp: 139920969907968\n"
          ]
        }
      ],
      "source": [
        "### START CODE HERE ###\n",
        "# writing code to get the address (in RAM) of x, y, temp through the built-in function id()\n",
        "x = int(input(\"Nhập giá trị cho x: \"))\n",
        "y = input(\"Nhập giá trị cho y: \")\n",
        "temp = input(\"Nhập giá trị cho temp (dạng danh sách): \")\n",
        "\n",
        "# Chuyển đổi chuỗi danh sách thành danh sách Python\n",
        "temp = [int(item) for item in temp.split(\",\")]\n",
        "\n",
        "# Lấy địa chỉ bộ nhớ của các biến\n",
        "address_x = id(x)\n",
        "address_y = id(y)\n",
        "address_temp = id(temp)\n",
        "\n",
        "# In địa chỉ bộ nhớ của các biến\n",
        "print(f\"Địa chỉ bộ nhớ x: {address_x}\")\n",
        "print(f\"Địa chỉ bộ nhớ y: {address_y}\")\n",
        "print(f\"Địa chỉ bộ nhớ temp: {address_temp}\")\n",
        "### END CODE HERE ###"
      ]
    },
    {
      "cell_type": "markdown",
      "metadata": {
        "id": "cdoYju2Zlgn_"
      },
      "source": [
        "# 7. Sinh viên hãy cho biết kết quả của 2 câu lệnh dưới đây:\n",
        "\n",
        "![image.png](attachment:image.png)"
      ]
    },
    {
      "cell_type": "code",
      "execution_count": 12,
      "metadata": {
        "colab": {
          "base_uri": "https://localhost:8080/"
        },
        "id": "zj-Ia2eVlgoA",
        "outputId": "b3db768c-4c3e-4469-aba3-8640132df722"
      },
      "outputs": [
        {
          "output_type": "stream",
          "name": "stdout",
          "text": [
            "IP Address: 127.0.0.1 => Packed: 7f000001, Unpacked: 127.0.0.1\n",
            "\n",
            "IP Address: 192.168.0.1 => Packed: c0a80001, Unpacked: 192.168.0.1\n",
            "\n"
          ]
        }
      ],
      "source": [
        "#  Start Code HERE\n",
        "import socket\n",
        "from binascii import hexlify\n",
        "\n",
        "def convert_ip4_address():\n",
        "    for ip_addr in ['127.0.0.1', '192.168.0.1']:\n",
        "        packed_ip_addr = socket.inet_aton(ip_addr)\n",
        "        unpacked_ip_addr = socket.inet_ntoa(packed_ip_addr)\n",
        "\n",
        "        # Ghi kết quả vào tệp văn bản\n",
        "        with open('results.txt', 'a') as f:\n",
        "            print('IP Address: %s => Packed: %s, Unpacked: %s\\n' % (ip_addr, hexlify(packed_ip_addr).decode(), unpacked_ip_addr))\n",
        "\n",
        "if __name__ == \"__main__\":\n",
        "    convert_ip4_address()\n",
        "\n",
        "\n",
        "\n",
        "# Write Result HERE"
      ]
    },
    {
      "cell_type": "markdown",
      "metadata": {
        "id": "_JjJaTLAlgoA"
      },
      "source": [
        "# 8. ICMP Echo Request\n",
        "ICMP Echo Request được biết đến bằng cách sử dụng lệnh ping. Gói ICMP được gửi đến máy chủ bằng địa chỉ IP và trả về kết quả thông qua trường TYPE. Dựa vào giá trị của TYPE để xác định tình trạng của máy chủ hiện tại.\n",
        "\n",
        "Một số giá trị của TYPE:\n",
        "\n",
        "0: Echo Reply\n",
        "\n",
        "2: No response\n",
        "\n",
        "...\n",
        "\n",
        "Sinh viên thực hoàn thành đoạn code sau và cho biết kết quả\n",
        "\n",
        "![image.png](attachment:image.png)"
      ]
    },
    {
      "cell_type": "code",
      "execution_count": 18,
      "metadata": {
        "colab": {
          "base_uri": "https://localhost:8080/",
          "height": 407
        },
        "id": "c3TTgITklgoA",
        "outputId": "ba1cf881-16f0-4853-cc35-0e35fc934a86"
      },
      "outputs": [
        {
          "output_type": "error",
          "ename": "FileNotFoundError",
          "evalue": "ignored",
          "traceback": [
            "\u001b[0;31m---------------------------------------------------------------------------\u001b[0m",
            "\u001b[0;31mFileNotFoundError\u001b[0m                         Traceback (most recent call last)",
            "\u001b[0;32m<ipython-input-18-a7c4171258c5>\u001b[0m in \u001b[0;36m<cell line: 5>\u001b[0;34m()\u001b[0m\n\u001b[1;32m      3\u001b[0m \u001b[0;34m\u001b[0m\u001b[0m\n\u001b[1;32m      4\u001b[0m \u001b[0maddress\u001b[0m \u001b[0;34m=\u001b[0m \u001b[0;34m\"www.google.com\"\u001b[0m\u001b[0;34m\u001b[0m\u001b[0;34m\u001b[0m\u001b[0m\n\u001b[0;32m----> 5\u001b[0;31m \u001b[0mres\u001b[0m \u001b[0;34m=\u001b[0m \u001b[0msubprocess\u001b[0m\u001b[0;34m.\u001b[0m\u001b[0mcall\u001b[0m\u001b[0;34m(\u001b[0m\u001b[0;34m[\u001b[0m\u001b[0;34m'ping'\u001b[0m\u001b[0;34m,\u001b[0m \u001b[0maddress\u001b[0m\u001b[0;34m]\u001b[0m\u001b[0;34m)\u001b[0m\u001b[0;34m\u001b[0m\u001b[0;34m\u001b[0m\u001b[0m\n\u001b[0m\u001b[1;32m      6\u001b[0m \u001b[0;34m\u001b[0m\u001b[0m\n\u001b[1;32m      7\u001b[0m \u001b[0mprint\u001b[0m\u001b[0;34m(\u001b[0m\u001b[0;34m\"Type value:\"\u001b[0m\u001b[0;34m,\u001b[0m \u001b[0mstr\u001b[0m\u001b[0;34m(\u001b[0m\u001b[0mres\u001b[0m\u001b[0;34m)\u001b[0m\u001b[0;34m)\u001b[0m\u001b[0;34m\u001b[0m\u001b[0;34m\u001b[0m\u001b[0m\n",
            "\u001b[0;32m/usr/lib/python3.10/subprocess.py\u001b[0m in \u001b[0;36mcall\u001b[0;34m(timeout, *popenargs, **kwargs)\u001b[0m\n\u001b[1;32m    343\u001b[0m     \u001b[0mretcode\u001b[0m \u001b[0;34m=\u001b[0m \u001b[0mcall\u001b[0m\u001b[0;34m(\u001b[0m\u001b[0;34m[\u001b[0m\u001b[0;34m\"ls\"\u001b[0m\u001b[0;34m,\u001b[0m \u001b[0;34m\"-l\"\u001b[0m\u001b[0;34m]\u001b[0m\u001b[0;34m)\u001b[0m\u001b[0;34m\u001b[0m\u001b[0;34m\u001b[0m\u001b[0m\n\u001b[1;32m    344\u001b[0m     \"\"\"\n\u001b[0;32m--> 345\u001b[0;31m     \u001b[0;32mwith\u001b[0m \u001b[0mPopen\u001b[0m\u001b[0;34m(\u001b[0m\u001b[0;34m*\u001b[0m\u001b[0mpopenargs\u001b[0m\u001b[0;34m,\u001b[0m \u001b[0;34m**\u001b[0m\u001b[0mkwargs\u001b[0m\u001b[0;34m)\u001b[0m \u001b[0;32mas\u001b[0m \u001b[0mp\u001b[0m\u001b[0;34m:\u001b[0m\u001b[0;34m\u001b[0m\u001b[0;34m\u001b[0m\u001b[0m\n\u001b[0m\u001b[1;32m    346\u001b[0m         \u001b[0;32mtry\u001b[0m\u001b[0;34m:\u001b[0m\u001b[0;34m\u001b[0m\u001b[0;34m\u001b[0m\u001b[0m\n\u001b[1;32m    347\u001b[0m             \u001b[0;32mreturn\u001b[0m \u001b[0mp\u001b[0m\u001b[0;34m.\u001b[0m\u001b[0mwait\u001b[0m\u001b[0;34m(\u001b[0m\u001b[0mtimeout\u001b[0m\u001b[0;34m=\u001b[0m\u001b[0mtimeout\u001b[0m\u001b[0;34m)\u001b[0m\u001b[0;34m\u001b[0m\u001b[0;34m\u001b[0m\u001b[0m\n",
            "\u001b[0;32m/usr/lib/python3.10/subprocess.py\u001b[0m in \u001b[0;36m__init__\u001b[0;34m(self, args, bufsize, executable, stdin, stdout, stderr, preexec_fn, close_fds, shell, cwd, env, universal_newlines, startupinfo, creationflags, restore_signals, start_new_session, pass_fds, user, group, extra_groups, encoding, errors, text, umask, pipesize)\u001b[0m\n\u001b[1;32m    969\u001b[0m                             encoding=encoding, errors=errors)\n\u001b[1;32m    970\u001b[0m \u001b[0;34m\u001b[0m\u001b[0m\n\u001b[0;32m--> 971\u001b[0;31m             self._execute_child(args, executable, preexec_fn, close_fds,\n\u001b[0m\u001b[1;32m    972\u001b[0m                                 \u001b[0mpass_fds\u001b[0m\u001b[0;34m,\u001b[0m \u001b[0mcwd\u001b[0m\u001b[0;34m,\u001b[0m \u001b[0menv\u001b[0m\u001b[0;34m,\u001b[0m\u001b[0;34m\u001b[0m\u001b[0;34m\u001b[0m\u001b[0m\n\u001b[1;32m    973\u001b[0m                                 \u001b[0mstartupinfo\u001b[0m\u001b[0;34m,\u001b[0m \u001b[0mcreationflags\u001b[0m\u001b[0;34m,\u001b[0m \u001b[0mshell\u001b[0m\u001b[0;34m,\u001b[0m\u001b[0;34m\u001b[0m\u001b[0;34m\u001b[0m\u001b[0m\n",
            "\u001b[0;32m/usr/lib/python3.10/subprocess.py\u001b[0m in \u001b[0;36m_execute_child\u001b[0;34m(self, args, executable, preexec_fn, close_fds, pass_fds, cwd, env, startupinfo, creationflags, shell, p2cread, p2cwrite, c2pread, c2pwrite, errread, errwrite, restore_signals, gid, gids, uid, umask, start_new_session)\u001b[0m\n\u001b[1;32m   1861\u001b[0m                     \u001b[0;32mif\u001b[0m \u001b[0merrno_num\u001b[0m \u001b[0;34m!=\u001b[0m \u001b[0;36m0\u001b[0m\u001b[0;34m:\u001b[0m\u001b[0;34m\u001b[0m\u001b[0;34m\u001b[0m\u001b[0m\n\u001b[1;32m   1862\u001b[0m                         \u001b[0merr_msg\u001b[0m \u001b[0;34m=\u001b[0m \u001b[0mos\u001b[0m\u001b[0;34m.\u001b[0m\u001b[0mstrerror\u001b[0m\u001b[0;34m(\u001b[0m\u001b[0merrno_num\u001b[0m\u001b[0;34m)\u001b[0m\u001b[0;34m\u001b[0m\u001b[0;34m\u001b[0m\u001b[0m\n\u001b[0;32m-> 1863\u001b[0;31m                     \u001b[0;32mraise\u001b[0m \u001b[0mchild_exception_type\u001b[0m\u001b[0;34m(\u001b[0m\u001b[0merrno_num\u001b[0m\u001b[0;34m,\u001b[0m \u001b[0merr_msg\u001b[0m\u001b[0;34m,\u001b[0m \u001b[0merr_filename\u001b[0m\u001b[0;34m)\u001b[0m\u001b[0;34m\u001b[0m\u001b[0;34m\u001b[0m\u001b[0m\n\u001b[0m\u001b[1;32m   1864\u001b[0m                 \u001b[0;32mraise\u001b[0m \u001b[0mchild_exception_type\u001b[0m\u001b[0;34m(\u001b[0m\u001b[0merr_msg\u001b[0m\u001b[0;34m)\u001b[0m\u001b[0;34m\u001b[0m\u001b[0;34m\u001b[0m\u001b[0m\n\u001b[1;32m   1865\u001b[0m \u001b[0;34m\u001b[0m\u001b[0m\n",
            "\u001b[0;31mFileNotFoundError\u001b[0m: [Errno 2] No such file or directory: 'ping'"
          ]
        }
      ],
      "source": [
        "#  Start Code HERE\n",
        "import subprocess\n",
        "\n",
        "address = \"www.google.com\"\n",
        "res = subprocess.call(['ping', address])\n",
        "\n",
        "print(\"Type value:\", str(res))\n",
        "\n",
        "if res == 0:\n",
        "    print(\"Ping to\", address, \"OK\")\n",
        "elif res == 2:\n",
        "    print(\"No response from\", address)\n",
        "else:\n",
        "    print(\"Ping to\", address, \"failed!\")\n",
        "\n",
        "\n",
        "\n",
        "# Write Result HERE"
      ]
    },
    {
      "cell_type": "code",
      "execution_count": null,
      "metadata": {
        "id": "024aoBhRlgoA"
      },
      "outputs": [],
      "source": [
        "### START CODE HERE ###\n",
        "#\n",
        "\n",
        "### END CODE HERE ###"
      ]
    },
    {
      "cell_type": "markdown",
      "metadata": {
        "id": "sTqX_n0SlgoA"
      },
      "source": [
        "# BÀI TẬP\n",
        "Bài 1: Hãy thực thi câu lệnh sau và cho biết kết quả:\n",
        "\n",
        "a)\n",
        "\n",
        "import socket\n",
        "\n",
        "help(socket.gethostname)\n",
        "\n",
        "b)\n",
        "\n",
        "import socket\n",
        "\n",
        "help(socket.gethostbyname)\n",
        "\n",
        "Bài 2: Sinh viên hãy thực hiện lại thí dụ 4, với Input hostname nhập vào là 255.255.255.256, hãy giải thích kết quả nhận được.  \n",
        "\n",
        "Bài 3: Hãy cải tiến thí dụ 4 bằng cách sử dụng vòng lặp cho phép người dùng liên tục nhập hostname và in ra địa chỉ IP, vòng lặp chỉ kết thúc khi người dùng nhập phím Q.\n",
        "\n",
        "Bài 4: Trong thí dụ 8, có sử dụng hàm subprocess, sinh viên hãy tìm hiểu và trình bày hàm subprocess, có giải thích và thí dụ minh họa.\n"
      ]
    },
    {
      "cell_type": "code",
      "execution_count": null,
      "metadata": {
        "id": "6FIyIRCQlgoA"
      },
      "outputs": [],
      "source": [
        "### START CODE HERE ###\n",
        "\n",
        "### END CODE HERE ###"
      ]
    },
    {
      "cell_type": "markdown",
      "metadata": {
        "id": "qdqyA8tNlgoA"
      },
      "source": [
        "#TÀI LIỆU THAM KHẢO\n",
        "\n",
        "https://www.python-course.eu/conditional_statements.php\n",
        "\n",
        "https://www.w3schools.com/python/python_conditions.asp\n",
        "\n",
        "https://jaxenter.com/differences-python-2-3-148432.html\n",
        "\n",
        "https://jaxenter.com/implement-switch-case-statement-python-138315.html\n",
        "\n",
        "https://www.geeksforgeeks.org/network-scanner-in-python/"
      ]
    }
  ],
  "metadata": {
    "kernelspec": {
      "display_name": "Python 3",
      "language": "python",
      "name": "python3"
    },
    "language_info": {
      "codemirror_mode": {
        "name": "ipython",
        "version": 3
      },
      "file_extension": ".py",
      "mimetype": "text/x-python",
      "name": "python",
      "nbconvert_exporter": "python",
      "pygments_lexer": "ipython3",
      "version": "3.10.8"
    },
    "colab": {
      "provenance": []
    }
  },
  "nbformat": 4,
  "nbformat_minor": 0
}